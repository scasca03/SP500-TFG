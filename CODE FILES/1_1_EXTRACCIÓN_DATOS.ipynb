{
  "nbformat": 4,
  "nbformat_minor": 0,
  "metadata": {
    "colab": {
      "provenance": []
    },
    "kernelspec": {
      "name": "python3",
      "display_name": "Python 3"
    },
    "language_info": {
      "name": "python"
    }
  },
  "cells": [
    {
      "cell_type": "code",
      "source": [
        "#Conectamos Github\n",
        "!apt-get install git"
      ],
      "metadata": {
        "colab": {
          "base_uri": "https://localhost:8080/"
        },
        "id": "maZhmCukMIl-",
        "outputId": "2fafd365-6e9b-47ec-8e08-0ee8ba44022b"
      },
      "execution_count": null,
      "outputs": [
        {
          "output_type": "stream",
          "name": "stdout",
          "text": [
            "Reading package lists... Done\n",
            "Building dependency tree... Done\n",
            "Reading state information... Done\n",
            "git is already the newest version (1:2.34.1-1ubuntu1.12).\n",
            "0 upgraded, 0 newly installed, 0 to remove and 20 not upgraded.\n"
          ]
        }
      ]
    },
    {
      "cell_type": "code",
      "source": [
        "import os\n",
        "\n",
        "# Set up GitHub authentication\n",
        "token = ''\n",
        "repo_url = 'https://github.com/scasca03/SP500-TFG.git'\n",
        "\n",
        "# Clone the repository\n",
        "os.system(f'git clone https://{token}@{repo_url[8:]}')"
      ],
      "metadata": {
        "colab": {
          "base_uri": "https://localhost:8080/"
        },
        "id": "46hyptNSMqTb",
        "outputId": "c11737a1-2828-4eaa-f6d5-5665fe606d03"
      },
      "execution_count": null,
      "outputs": [
        {
          "output_type": "execute_result",
          "data": {
            "text/plain": [
              "0"
            ]
          },
          "metadata": {},
          "execution_count": 2
        }
      ]
    },
    {
      "cell_type": "code",
      "execution_count": null,
      "metadata": {
        "id": "dMGf7msiYseF",
        "colab": {
          "base_uri": "https://localhost:8080/"
        },
        "outputId": "a5ea90fa-10d0-40f9-bcd3-1f404e2d7c74"
      },
      "outputs": [
        {
          "output_type": "stream",
          "name": "stdout",
          "text": [
            "Collecting alpha_vantage\n",
            "  Downloading alpha_vantage-3.0.0-py3-none-any.whl.metadata (12 kB)\n",
            "Requirement already satisfied: pandas in /usr/local/lib/python3.11/dist-packages (2.2.2)\n",
            "Requirement already satisfied: aiohttp in /usr/local/lib/python3.11/dist-packages (from alpha_vantage) (3.11.12)\n",
            "Requirement already satisfied: requests in /usr/local/lib/python3.11/dist-packages (from alpha_vantage) (2.32.3)\n",
            "Requirement already satisfied: numpy>=1.23.2 in /usr/local/lib/python3.11/dist-packages (from pandas) (1.26.4)\n",
            "Requirement already satisfied: python-dateutil>=2.8.2 in /usr/local/lib/python3.11/dist-packages (from pandas) (2.8.2)\n",
            "Requirement already satisfied: pytz>=2020.1 in /usr/local/lib/python3.11/dist-packages (from pandas) (2025.1)\n",
            "Requirement already satisfied: tzdata>=2022.7 in /usr/local/lib/python3.11/dist-packages (from pandas) (2025.1)\n",
            "Requirement already satisfied: six>=1.5 in /usr/local/lib/python3.11/dist-packages (from python-dateutil>=2.8.2->pandas) (1.17.0)\n",
            "Requirement already satisfied: aiohappyeyeballs>=2.3.0 in /usr/local/lib/python3.11/dist-packages (from aiohttp->alpha_vantage) (2.4.4)\n",
            "Requirement already satisfied: aiosignal>=1.1.2 in /usr/local/lib/python3.11/dist-packages (from aiohttp->alpha_vantage) (1.3.2)\n",
            "Requirement already satisfied: attrs>=17.3.0 in /usr/local/lib/python3.11/dist-packages (from aiohttp->alpha_vantage) (25.1.0)\n",
            "Requirement already satisfied: frozenlist>=1.1.1 in /usr/local/lib/python3.11/dist-packages (from aiohttp->alpha_vantage) (1.5.0)\n",
            "Requirement already satisfied: multidict<7.0,>=4.5 in /usr/local/lib/python3.11/dist-packages (from aiohttp->alpha_vantage) (6.1.0)\n",
            "Requirement already satisfied: propcache>=0.2.0 in /usr/local/lib/python3.11/dist-packages (from aiohttp->alpha_vantage) (0.2.1)\n",
            "Requirement already satisfied: yarl<2.0,>=1.17.0 in /usr/local/lib/python3.11/dist-packages (from aiohttp->alpha_vantage) (1.18.3)\n",
            "Requirement already satisfied: charset-normalizer<4,>=2 in /usr/local/lib/python3.11/dist-packages (from requests->alpha_vantage) (3.4.1)\n",
            "Requirement already satisfied: idna<4,>=2.5 in /usr/local/lib/python3.11/dist-packages (from requests->alpha_vantage) (3.10)\n",
            "Requirement already satisfied: urllib3<3,>=1.21.1 in /usr/local/lib/python3.11/dist-packages (from requests->alpha_vantage) (2.3.0)\n",
            "Requirement already satisfied: certifi>=2017.4.17 in /usr/local/lib/python3.11/dist-packages (from requests->alpha_vantage) (2025.1.31)\n",
            "Downloading alpha_vantage-3.0.0-py3-none-any.whl (35 kB)\n",
            "Installing collected packages: alpha_vantage\n",
            "Successfully installed alpha_vantage-3.0.0\n"
          ]
        }
      ],
      "source": [
        "pip install alpha_vantage pandas"
      ]
    },
    {
      "cell_type": "code",
      "source": [
        "from alpha_vantage.timeseries import TimeSeries\n",
        "import pandas as pd\n",
        "import os\n",
        "\n",
        "# Tu clave de API de Alpha Vantage\n",
        "api_key = ''\n",
        "\n",
        "# Inicializar Alpha Vantage\n",
        "ts = TimeSeries(key=api_key, output_format='pandas')\n",
        "\n",
        "# Función para obtener datos ajustados\n",
        "def get_stock_data(symbol):\n",
        "    print(f\"Downloading adjusted data for {symbol}...\")\n",
        "    data, meta_data = ts.get_daily_adjusted(symbol=symbol, outputsize='full')  # Datos ajustados\n",
        "\n",
        "    # Seleccionar solo las columnas ajustadas\n",
        "    data = data.rename(columns={\n",
        "        '1. open': 'open',\n",
        "        '2. high': 'high',\n",
        "        '3. low': 'low',\n",
        "        '4. close': 'close',\n",
        "        '5. adjusted close': 'adjusted_close',\n",
        "        '6. volume': 'volume'\n",
        "    })\n",
        "\n",
        "    # Filtrar hasta 31.12.2024\n",
        "    data = data[data.index <= '2024-12-31']\n",
        "    return data\n",
        "\n",
        "# Lista de símbolos\n",
        "symbols = ['TSLA', 'AAPL', 'MSFT', 'SPY', 'AMZN', 'AVGO', 'BRK.B', 'GOOG', 'GOOGL', 'META', 'NVDA']\n",
        "\n",
        "# Crear carpeta\n",
        "os.makedirs('data', exist_ok=True)\n",
        "\n",
        "# Descargar y guardar datos\n",
        "for symbol in symbols:\n",
        "    try:\n",
        "        stock_data = get_stock_data(symbol)\n",
        "\n",
        "        # Guardar en CSV\n",
        "        file_path = os.path.join('data', f'{symbol}_stock_data.csv')\n",
        "        stock_data.to_csv(file_path)\n",
        "        print(f\"✅ Data for {symbol} saved at {file_path}\")\n",
        "    except Exception as e:\n",
        "        print(f\"❌ Error downloading data for {symbol}: {e}\")\n",
        "\n",
        "print(\"🚀 Process completed!\")"
      ],
      "metadata": {
        "colab": {
          "base_uri": "https://localhost:8080/"
        },
        "id": "DRkBC93UCLou",
        "outputId": "13197fa2-4039-4153-a87f-52630e27e231"
      },
      "execution_count": null,
      "outputs": [
        {
          "output_type": "stream",
          "name": "stdout",
          "text": [
            "Downloading adjusted data for TSLA...\n",
            "❌ Error downloading data for TSLA: Thank you for using Alpha Vantage! This is a premium endpoint. You may subscribe to any of the premium plans at https://www.alphavantage.co/premium/ to instantly unlock all premium endpoints\n",
            "Downloading adjusted data for AAPL...\n",
            "❌ Error downloading data for AAPL: Thank you for using Alpha Vantage! This is a premium endpoint. You may subscribe to any of the premium plans at https://www.alphavantage.co/premium/ to instantly unlock all premium endpoints\n",
            "Downloading adjusted data for MSFT...\n",
            "❌ Error downloading data for MSFT: Thank you for using Alpha Vantage! This is a premium endpoint. You may subscribe to any of the premium plans at https://www.alphavantage.co/premium/ to instantly unlock all premium endpoints\n",
            "Downloading adjusted data for SPY...\n",
            "❌ Error downloading data for SPY: Thank you for using Alpha Vantage! This is a premium endpoint. You may subscribe to any of the premium plans at https://www.alphavantage.co/premium/ to instantly unlock all premium endpoints\n",
            "Downloading adjusted data for AMZN...\n",
            "❌ Error downloading data for AMZN: Thank you for using Alpha Vantage! This is a premium endpoint. You may subscribe to any of the premium plans at https://www.alphavantage.co/premium/ to instantly unlock all premium endpoints\n",
            "Downloading adjusted data for AVGO...\n",
            "❌ Error downloading data for AVGO: Thank you for using Alpha Vantage! This is a premium endpoint. You may subscribe to any of the premium plans at https://www.alphavantage.co/premium/ to instantly unlock all premium endpoints\n",
            "Downloading adjusted data for BRK.B...\n",
            "❌ Error downloading data for BRK.B: Thank you for using Alpha Vantage! This is a premium endpoint. You may subscribe to any of the premium plans at https://www.alphavantage.co/premium/ to instantly unlock all premium endpoints\n",
            "Downloading adjusted data for GOOG...\n",
            "❌ Error downloading data for GOOG: Thank you for using Alpha Vantage! This is a premium endpoint. You may subscribe to any of the premium plans at https://www.alphavantage.co/premium/ to instantly unlock all premium endpoints\n",
            "Downloading adjusted data for GOOGL...\n",
            "❌ Error downloading data for GOOGL: Thank you for using Alpha Vantage! This is a premium endpoint. You may subscribe to any of the premium plans at https://www.alphavantage.co/premium/ to instantly unlock all premium endpoints\n",
            "Downloading adjusted data for META...\n",
            "❌ Error downloading data for META: Thank you for using Alpha Vantage! This is a premium endpoint. You may subscribe to any of the premium plans at https://www.alphavantage.co/premium/ to instantly unlock all premium endpoints\n",
            "Downloading adjusted data for NVDA...\n",
            "❌ Error downloading data for NVDA: Thank you for using Alpha Vantage! This is a premium endpoint. You may subscribe to any of the premium plans at https://www.alphavantage.co/premium/ to instantly unlock all premium endpoints\n",
            "🚀 Process completed!\n"
          ]
        }
      ]
    }
  ]
}